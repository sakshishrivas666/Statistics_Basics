{
  "nbformat": 4,
  "nbformat_minor": 0,
  "metadata": {
    "colab": {
      "provenance": []
    },
    "kernelspec": {
      "name": "python3",
      "display_name": "Python 3"
    },
    "language_info": {
      "name": "python"
    }
  },
  "cells": [
    {
      "cell_type": "markdown",
      "source": [
        "# ***Statistics Basics Theory Questions***"
      ],
      "metadata": {
        "id": "vLSevCQ35K4m"
      }
    },
    {
      "cell_type": "markdown",
      "source": [
        "# 1:-  What is statistics, and why is it important ?\n",
        "\n",
        "    \n",
        "  - Statistics is the branch of mathematics that deals with collecting, analyzing, interpreting, presenting, and organizing data. It provides tools for making decisions based on data, especially in the presence of uncertainty.\n",
        "\n",
        "    # Importance :-  \n",
        "\n",
        "# 1:- Informed Decision-Making:\n",
        "Statistics helps individuals, businesses, and governments make data-driven decisions (e.g., market research, policy planning, risk assessment).\n",
        "\n",
        "# 2:- Understanding Variability:\n",
        "It helps us understand natural variability and uncertainty in processes or populations.\n",
        "\n",
        "# 3:- Prediction and Forecasting:\n",
        "Statistical models are used to forecast future trends (e.g., weather, sales, economic growth).\n",
        "\n",
        "# 4:- Scientific Research:\n",
        "It's essential for designing experiments, analyzing results, and drawing valid conclusions in scientific studies.\n",
        "\n",
        "# 5:- Quality Control:\n",
        "Industries use statistical methods to monitor and improve product quality.\n",
        "\n",
        "\n",
        "\n",
        "\n"
      ],
      "metadata": {
        "id": "tFlA2F765gl-"
      }
    },
    {
      "cell_type": "markdown",
      "source": [
        "# 2:-  What are the two main types of statistics?\n",
        "\n",
        "\n",
        "#Descriptive Statistics –\n",
        "These summarize and organize data so it can be easily understood. Common tools include measures like mean, median, mode, standard deviation, and visualizations such as charts and graphs.\n",
        "\n",
        "#Inferential Statistics –\n",
        "These involve making predictions or inferences about a population based on a sample of data. This includes hypothesis testing, confidence intervals, regression analysis, and more.\n"
      ],
      "metadata": {
        "id": "ml3DU5wV5gre"
      }
    },
    {
      "cell_type": "markdown",
      "source": [
        "# 3:-  What are descriptive statistics ?\n",
        "\n",
        "    \n",
        "  - Descriptive statistics are methods for summarizing and organizing data in an informative way. They provide a simple overview of the characteristics of a dataset without making predictions or generalizations beyond the data.\n",
        "\n"
      ],
      "metadata": {
        "id": "YIrbMibK5gv2"
      }
    },
    {
      "cell_type": "markdown",
      "source": [
        "# 4:- What is inferential statistics ?\n",
        "\n",
        "\n",
        "  - Inferential statistics is a branch of statistics that allows you to make predictions or generalizations about a population based on a sample of data from that population.\n",
        "\n",
        "In simpler terms:\n",
        "\n",
        "You collect data from a small group (sample).\n",
        "\n",
        "Then, you use statistical methods to make conclusions about the larger group (population) from which the sample came.\n",
        "\n"
      ],
      "metadata": {
        "id": "DF0UwrcL5g0H"
      }
    },
    {
      "cell_type": "markdown",
      "source": [
        "# 5:-  What is sampling in statistics ?\n",
        "\n",
        "    \n",
        "  - In statistics, sampling is the process of selecting a subset of individuals or items from a larger population in order to estimate characteristics of the whole population."
      ],
      "metadata": {
        "id": "EiriqqdS5g4e"
      }
    },
    {
      "cell_type": "markdown",
      "source": [
        "# 6:-  What are the different types of sampling methods ?\n",
        "\n",
        "    \n",
        "  - Sampling methods are techniques used to select a subset of individuals or elements from a larger population to make inferences about the whole. Here are the main types of sampling methods, divided into two broad categories: probability and non-probability sampling.\n",
        "\n",
        "#  Probability Sampling Methods\n",
        "Each member of the population has a known, non-zero chance of being selected.\n",
        "\n",
        "a. Simple Random Sampling\n",
        "Every member has an equal chance of being selected.\n",
        "\n",
        "Example: Drawing names from a hat.\n",
        "\n",
        "\n",
        "b. Systematic Sampling\n",
        "Select every kth individual from a list after a random start.\n",
        "\n",
        "Example: Choosing every 10th customer entering a store.\n",
        "\n",
        "c. Stratified Sampling\n",
        "Population is divided into subgroups (strata) based on a characteristic, and random samples are taken from each group.\n",
        "\n",
        "Example: Sampling 50 men and 50 women from a population.\n",
        "\n",
        "d. Cluster Sampling\n",
        "Population is divided into clusters (usually geographically), some clusters are randomly selected, and all or a sample of members from those clusters are surveyed.\n",
        "\n",
        "Example: Surveying all households in 5 randomly chosen city blocks.\n",
        "\n",
        "#  Non-Probability Sampling Methods\n",
        "Not every member has a known or equal chance of being included.\n",
        "\n",
        "a. Convenience Sampling\n",
        "Selects individuals who are easiest to access.\n",
        "\n",
        "Example: Surveying people in a mall.\n",
        "\n",
        "b. Judgmental/Purposive Sampling\n",
        "Researcher uses judgment to select individuals who are most useful or representative.\n",
        "\n",
        "Example: Choosing experts in a field for a specialized study.\n",
        "\n",
        "c. Snowball Sampling\n",
        "Existing study subjects recruit future subjects from among their acquaintances.\n",
        "\n",
        "Common in hard-to-reach or hidden populations.\n",
        "\n",
        "d. Quota Sampling\n",
        "Ensures certain characteristics are represented in the sample to a certain extent but selection within those quotas is non-random.\n",
        "\n",
        "Example: Interviewing 100 people, ensuring 50 are under 30 and 50 are over 30, but choosing them conveniently.\n",
        "\n",
        "\n",
        "\n",
        "\n"
      ],
      "metadata": {
        "id": "BL0M32Rg5g8O"
      }
    },
    {
      "cell_type": "markdown",
      "source": [
        "# 7:-  What is the difference between random and non-random sampling ?\n",
        "\n",
        "# Random Sampling:\n",
        "Definition: Every member of the population has an equal chance of being selected.\n",
        "\n",
        "Purpose: To reduce bias and ensure the sample is representative of the population.\n",
        "\n",
        "Examples:\n",
        "\n",
        "Simple random sampling: Drawing names from a hat or using a random number generator.\n",
        "\n",
        "Stratified random sampling: Dividing the population into groups (strata) and randomly sampling from each.\n",
        "\n",
        "Advantage: Results are more generalizable to the whole population.\n",
        "\n",
        "Disadvantage: Can be time-consuming and may require a complete list of the population.\n",
        "\n",
        "\n",
        "# Non-Random Sampling (Non-Probability Sampling):\n",
        "Definition: Not all members have a known or equal chance of being selected.\n",
        "\n",
        "Purpose: Often used when random sampling isn’t practical.\n",
        "\n",
        "Examples:\n",
        "\n",
        "Convenience sampling: Sampling people who are easiest to reach.\n",
        "\n",
        "Judgmental or purposive sampling: Selecting people based on the researcher’s judgment.\n",
        "\n",
        "Snowball sampling: Participants recruit others to participate.\n",
        "\n",
        "Advantage: Easier and quicker to conduct.\n",
        "\n",
        "Disadvantage: Higher risk of bias; results may not be generalizable."
      ],
      "metadata": {
        "id": "EpPJZrIP5g_3"
      }
    },
    {
      "cell_type": "markdown",
      "source": [
        "# 8:- Define and give examples of qualitative and quantitative data.\n",
        "\n",
        "#  Qualitative Data\n",
        "Definition:\n",
        "Qualitative data describes qualities or characteristics. It is non-numerical and is often used to capture concepts, opinions, behaviors, or experiences.\n",
        "\n",
        "Examples:\n",
        "\n",
        "Colors of cars in a parking lot (e.g., red, blue, black).\n",
        "\n",
        "Customer feedback or reviews (e.g., \"The service was excellent\").\n",
        "\n",
        "Types of cuisine at a food festival (e.g., Italian, Chinese, Mexican).\n",
        "\n",
        "Interview transcripts or open-ended survey responses.\n",
        "\n",
        "#  Quantitative Data\n",
        "Definition:\n",
        "Quantitative data represents quantities and is numerical in nature. It can be measured and analyzed statistically.\n",
        "\n",
        "Examples:\n",
        "\n",
        "Height of students in a class (e.g., 160 cm, 175 cm).\n",
        "\n",
        "Number of books sold in a month (e.g., 500 books).\n",
        "\n",
        "Temperature readings (e.g., 22°C, 30°C).\n",
        "\n",
        "Test scores (e.g., 85, 92, 78).\n",
        "\n",
        "\n",
        "\n"
      ],
      "metadata": {
        "id": "bJ1Vlxs35hDm"
      }
    },
    {
      "cell_type": "markdown",
      "source": [
        "# 9:-  What are the different types of data in statistics ?\n",
        "\n",
        "# Qualitative (Categorical) Data\n",
        "These represent categories or labels and are non-numeric (though they may be coded with numbers for convenience).\n",
        "\n",
        "Nominal Data: Categories with no inherent order.\n",
        "\n",
        "Examples: Gender, hair color, marital status, nationality.\n",
        "\n",
        "Ordinal Data: Categories with a meaningful order but no consistent difference between values.\n",
        "\n",
        "Examples: Education level (high school, bachelor's, master's), satisfaction ratings (poor, fair, good, excellent).\n",
        "\n",
        "\n",
        "# Quantitative (Numerical) Data\n",
        "These represent measurable quantities and are numeric.\n",
        "\n",
        "Discrete Data: Countable values, usually integers.\n",
        "\n",
        "Examples: Number of children, number of cars, shoe size.\n",
        "\n",
        "Continuous Data: Can take any value within a range and are typically measured.\n",
        "\n",
        "Examples: Height, weight, temperature, time."
      ],
      "metadata": {
        "id": "9gP5BMDl5hHm"
      }
    },
    {
      "cell_type": "markdown",
      "source": [
        "# 10. Explain nominal, ordinal, interval, and ratio levels of measurement.\n",
        "\n",
        "# 1:- Nominal Level (Categorical)\n",
        "Definition: Data is categorized without any order.\n",
        "\n",
        "Characteristics:\n",
        "\n",
        "Categories are names or labels.\n",
        "\n",
        "No numeric meaning or inherent ranking.\n",
        "\n",
        "Examples:\n",
        "\n",
        "Gender (Male, Female, Other)\n",
        "\n",
        "Colors (Red, Blue, Green)\n",
        "\n",
        "Nationality (American, French, Chinese)\n",
        "\n",
        "#  2:- Ordinal Level\n",
        "Definition: Data is categorized with a meaningful order, but differences between ranks are not uniform or measurable.\n",
        "\n",
        "Characteristics:\n",
        "\n",
        "Can be ranked or ordered.\n",
        "\n",
        "Intervals between values are not necessarily equal.\n",
        "\n",
        "Examples:\n",
        "\n",
        "Education level (High school, Bachelor's, Master's, PhD)\n",
        "\n",
        "Customer satisfaction (Poor, Fair, Good, Excellent)\n",
        "\n",
        "Class rankings (1st, 2nd, 3rd)\n",
        "\n",
        "\n",
        "# . Interval Level\n",
        "Definition: Ordered data with equal intervals between values, but no true zero point.\n",
        "\n",
        "Characteristics:\n",
        "\n",
        "Allows for meaningful differences between values.\n",
        "\n",
        "Ratios are not meaningful (e.g., 20°C is not “twice” as hot as 10°C).\n",
        "\n",
        "Examples:\n",
        "\n",
        "Temperature in Celsius or Fahrenheit\n",
        "\n",
        "Dates on a calendar\n",
        "\n",
        "IQ scores\n",
        "\n",
        "#  Ratio Level\n",
        "Definition: Data with all the characteristics of interval level, plus a true zero point.\n",
        "\n",
        "Characteristics:\n",
        "\n",
        "Order, equal intervals, and absolute zero exist.\n",
        "\n",
        "Ratios are meaningful (e.g., 20kg is twice as heavy as 10kg).\n",
        "\n",
        "Examples:\n",
        "\n",
        "Weight\n",
        "\n",
        "Height\n",
        "\n",
        "Age\n",
        "\n",
        "Income\n",
        "\n",
        "\n",
        "\n",
        "\n",
        "\n"
      ],
      "metadata": {
        "id": "fcEq7PBv5hLe"
      }
    },
    {
      "cell_type": "markdown",
      "source": [
        "# 11.  What is the measure of central tendency ?\n",
        "\n",
        "  - A measure of central tendency is a statistical value that represents the center or typical value of a dataset. It gives you a single value that summarizes a set of data by identifying the central position within that set.\n",
        "\n",
        "The three main measures of central tendency are:\n",
        "\n",
        "# Mean:\n",
        "The arithmetic average of all the data points.\n",
        "\n",
        "   Mean =  Sum of all values/Number of values\n",
        "\n",
        "# Median:\n",
        "The middle value when the data is arranged in order. If there is an even number of values, it's the average of the two middle values.\n",
        "\n",
        "# Mode:\n",
        "The value(s) that occur most frequently in the dataset."
      ],
      "metadata": {
        "id": "g8Yxhyfl5hPg"
      }
    },
    {
      "cell_type": "markdown",
      "source": [
        "# 12.  Define mean, median, and mode.\n",
        "\n",
        "# Mean (also called the average):\n",
        "The sum of all values divided by the number of values.\n",
        "Mean = Sum of all values/Number of values\n",
        "\n",
        "# Median:\n",
        "The middle value in a list of numbers when they are arranged in order.\n",
        "\n",
        "If the number of values is odd, the median is the middle value.\n",
        "\n",
        "If it's even, the median is the average of the two middle values.\n",
        "\n",
        "# Mode:\n",
        "The value(s) that occur most frequently in a data set.\n",
        "\n",
        "A set can have one mode, more than one mode, or no mode (if all values occur equally)."
      ],
      "metadata": {
        "id": "wZ8UHY835hTO"
      }
    },
    {
      "cell_type": "markdown",
      "source": [
        "# 13.  What is the significance of the measure of central tendency ?\n",
        "\n",
        "  - The measure of central tendency is significant because it provides a single value that summarizes or represents the center point or typical value of a dataset. This helps in understanding and interpreting data by identifying where most values lie.\n",
        "\n",
        "#There are three main measures:\n",
        "\n",
        "#Mean (Average) –\n",
        "Adds all values and divides by the number of values. It’s useful for normally distributed data but can be skewed by outliers.\n",
        "\n",
        "# Median –\n",
        "The middle value when data are ordered. It’s more robust than the mean in the presence of outliers or skewed data.\n",
        "\n",
        "#Mode –\n",
        "The value that appears most frequently. Useful for categorical data or identifying the most common value.\n",
        "\n",
        "# Significance:\n",
        "\n",
        "#Summarizes large datasets:\n",
        "Makes complex data easier to understand.\n",
        "\n",
        "# Helps in comparison:\n",
        "Useful for comparing different groups or datasets.\n",
        "\n",
        "# Supports decision-making:\n",
        "Used in fields like economics, education, business, and health to guide policies or strategies.\n",
        "\n",
        "# Basis for further analysis:\n",
        "Essential in calculating other statistics like variance or standard deviation."
      ],
      "metadata": {
        "id": "cx2iNTtSbfwR"
      }
    },
    {
      "cell_type": "markdown",
      "source": [
        "# 14.  What is variance, and how is it calculated ?\n",
        "\n",
        "# What is Variance?\n",
        "\n",
        "Variance is a statistical measure that quantifies the spread or dispersion of data points in a dataset around the mean (average). In simpler terms, it tells you how far apart the individual data points are from the average value.\n",
        "\n",
        "# How is it Calculated?\n",
        "\n",
        "Steps\n",
        "\n",
        "# 1:- Calculate the Mean:\n",
        "Find the average of all the data points in the dataset.\n",
        "\n",
        "# 2:- Calculate Deviations:\n",
        "For each data point, subtract the mean from the data point to find the deviation. This tells you how much each point differs from the average.\n",
        "# 3:- Square the Deviations:\n",
        " Square each deviation to make them all positive. This also emphasizes larger deviations.\n",
        "# 4: Sum the Squared Deviations:\n",
        "Add up all the squared deviations.\n",
        "\n",
        "# 4:- Divide:\n",
        "If you're calculating population variance (using the entire dataset), divide the sum of squared deviations by the total number of data points (N). If you're calculating sample variance (using a subset of the population), divide by the total number of data points in the sample minus 1 (N-1). This is to correct for a bias in estimating population variance using a sample.\n",
        "\n"
      ],
      "metadata": {
        "id": "7odsGv1Kbf0I"
      }
    },
    {
      "cell_type": "markdown",
      "source": [
        "# 15.  What is standard deviation, and why is it important ?\n",
        "\n",
        "  - Standard deviation is a statistical measure that quantifies the amount of variation or dispersion of a set of data values. A low standard deviation indicates that the values tend to be close to the mean (also called the expected value) of the set, while a high standard deviation indicates that the values are spread out over a wider range.\n",
        "\n",
        "# Importance\n",
        "\n",
        "# 1:- Understanding Data Spread:\n",
        "It helps us understand how much individual data points deviate from the average. A smaller standard deviation means the data is clustered closely around the mean, while a larger one indicates more variability.\n",
        "\n",
        "# 2:- Comparing Datasets:\n",
        "You can use standard deviation to compare the variability of two or more datasets. For example, if you have the test scores of two classes, the class with a lower standard deviation has more consistent scores.\n",
        "# 3:- Outlier Detection:\n",
        "Data points that are significantly far from the mean can be considered outliers. Standard deviation is used to identify these potentially unusual values.\n",
        "\n",
        "# 4:-Quality Control:\n",
        "In industries, standard deviation is used for quality control. If a process has a large standard deviation, it might mean there are inconsistencies or problems that need to be addressed.\n",
        "\n",
        "# 5 :- Normal Distribution:\n",
        "In a normal distribution (bell curve), about 68% of the data falls within one standard deviation of the mean, 95% within two standard deviations, and 99.7% within three standard deviations. This knowledge is crucial for many statistical analyses.\n",
        "\n",
        "# 6:- Making Predictions:\n",
        "Standard deviation can be used in making predictions or estimates. For example, in finance, it can be used to calculate the volatility of a"
      ],
      "metadata": {
        "id": "gGY-bbhEbf3v"
      }
    },
    {
      "cell_type": "markdown",
      "source": [
        "# 16.  Define and explain the term range in statistics.\n",
        "\n",
        "  - In statistics, the range is the difference between the maximum and minimum values in a dataset. It's the simplest measure of dispersion, showing the spread of data from the lowest to the highest value.\n",
        "\n",
        "# Explanation:\n",
        "\n",
        "# 1:- Calculation:\n",
        "To find the range, you subtract the minimum value from the maximum value in your dataset.\n",
        "   \n",
        "     Range = Maximum value - Minimum value\n",
        "\n",
        "# 2:- Interpretation:\n",
        "A larger range indicates greater variability or spread in the data, while a smaller range suggests that the data points are clustered more closely together.\n",
        "\n",
        "# Limitations:\n",
        "The range is sensitive to outliers. Extreme values can significantly inflate the range, making it a less reliable measure of dispersion when outliers are present.\n",
        "\n"
      ],
      "metadata": {
        "id": "lBzv99Vebf_X"
      }
    },
    {
      "cell_type": "markdown",
      "source": [
        "# 17.  What is the difference between variance and standard deviation ?\n",
        "\n",
        "# 1 :- Variance\n",
        "\n",
        "# Definition:\n",
        "Variance is the average of the squared differences between each data point and the mean of the dataset.\n",
        "\n",
        "\n",
        "\n",
        "\n",
        "# Calculation:\n",
        "1 :- Calculate the mean of the dataset.\n",
        "\n",
        "2:- Subtract the mean from each data point to get the deviation.\n",
        "\n",
        "3 :- Square each deviation.\n",
        "\n",
        "4 :- Sum the squared deviations.\n",
        "\n",
        "5:- Divide the sum of squared deviations by the number of data points (for population variance) or by the number of data points minus 1 (for sample variance).\n",
        "#Interpretation:\n",
        "Variance represents the spread or dispersion of the data. A higher variance indicates that the data points are more spread out from the mean, while a lower variance indicates that the data points are more clustered around the mean.\n",
        "\n",
        "# Units:\n",
        "Variance is expressed in squared units of the original data. For example, if the original data is in meters, the variance will be in meters squared.\n",
        "\n",
        "\n",
        "# 2:- Standard Deviation\n",
        "\n",
        "# Definition:\n",
        "Standard deviation is the square root of the variance.\n",
        "\n",
        "#Calculation:\n",
        "Take the square root of the variance.\n",
        "\n",
        "# Interpretation:\n",
        "Standard deviation is a more intuitive measure of data spread than variance because it is expressed in the same units as the original data. It represents the average distance of each data point from the mean.\n",
        "\n",
        "# Units:\n",
        "Standard deviation is expressed in the same units as the original data. For example, if the original data is in meters, the standard deviation will be in meters."
      ],
      "metadata": {
        "id": "XrR16KIobgDv"
      }
    },
    {
      "cell_type": "markdown",
      "source": [
        "# 18.  What is skewness in a dataset ?\n",
        "\n",
        "  - Skewness is a measure of the asymmetry of the probability distribution of a real-valued random variable about its mean. In simpler terms, it describes the shape of the distribution and whether it's leaning to one side or the other."
      ],
      "metadata": {
        "id": "WFYpmSoEbgHn"
      }
    },
    {
      "cell_type": "markdown",
      "source": [
        "# 19.  What does it mean if a dataset is positively or negatively skewed ?\n",
        "\n",
        "  - Skewness is a measure of the asymmetry of a data distribution. A perfectly symmetrical distribution (like the normal distribution) has zero skewness.\n",
        "\n",
        "# Positively Skewed (Right Skewed)\n",
        "\n",
        "# 1:- Shape:\n",
        "The distribution has a longer tail on the right side.\n",
        "\n",
        "# 2:- Meaning:\n",
        "Most of the data points are clustered towards the left side of the distribution, with a few larger values extending out to the right.\n",
        "\n",
        "# 3:- Interpretation:\n",
        "The mean is typically greater than the median, which is greater than the mode.\n",
        "\n",
        "# 4:- Example:\n",
        "Income distribution – often, there are many people with lower incomes and a smaller number of individuals with very high incomes, creating a right-skewed distribution.\n",
        "\n",
        "# Negatively Skewed (Left Skewed)\n",
        "\n",
        "#1:-Shape:\n",
        "The distribution has a longer tail on the left side.\n",
        "\n",
        "# 2:-Meaning:\n",
        "Most of the data points are clustered toward the right side of the distribution, with a few smaller values extending out to the left.\n",
        "\n",
        "# 3:- Interpretation:\n",
        "The mean is typically less than the median, which is less than the mode.\n",
        "\n",
        "#4:- Example:\n",
        "Exam scores where most students score high, but a few students score very low, causing a left-skewed distribution.\n",
        "\n"
      ],
      "metadata": {
        "id": "bPxBk4QqbgVP"
      }
    },
    {
      "cell_type": "markdown",
      "source": [
        "# 20.  Define and explain kurtosis.\n",
        "\n",
        "  - Kurtosis is a statistical measure that describes the shape of a probability distribution's tails in relation to its overall shape. It essentially tells you how much of the data is concentrated in the tails (extreme values) compared to the center of the distribution.\n",
        "  \n",
        "# Explanation:\n",
        "\n",
        "# 1:- High Kurtosis (Leptokurtic):\n",
        "A distribution with high kurtosis has heavy tails and a sharp peak. This means there are more extreme values (outliers) and the data is concentrated more in the center and tails.\n",
        "\n",
        "# 2:- Low Kurtosis (Platykurtic):\n",
        "A distribution with low kurtosis has light tails and a flatter peak. This means there are fewer extreme values and the data is more evenly spread out.\n",
        "\n",
        "# 3:- Normal Kurtosis (Mesokurtic):\n",
        "A normal distribution has a kurtosis value of 3 and serves as a baseline for comparison.\n",
        "\n"
      ],
      "metadata": {
        "id": "jaNkQOWx4oTE"
      }
    },
    {
      "cell_type": "markdown",
      "source": [
        "# 21.  What is the purpose of covariance ?\n",
        "\n",
        "# Purpose of Covariance\n",
        "\n",
        "Covariance is used to measure the directional relationship between two variables. In other words, it tells you how two variables change together.\n",
        "\n",
        "# 1:- Direction of Relationship:\n",
        "Positive Covariance: Indicates that the variables tend to move in the same direction. When one variable increases, the other tends to increase as well. And when one decreases, the other tends to decrease.\n",
        "Negative Covariance: Indicates that the variables tend to move in opposite directions. When one variable increases, the other tends to decrease, and vice versa.\n",
        "Zero Covariance: Suggests that there is no linear relationship between the variables. However, it's important to note that this doesn't necessarily mean there's no relationship at all, just that it's not a linear one.\n",
        "\n",
        "# 2:- Strength of Relationship:\n",
        "While the sign of the covariance indicates the direction of the relationship, the magnitude of the covariance value can give you a sense of the strength of the relationship.\n",
        "However, the magnitude itself is not always easy to interpret. This is because it's affected by the scales of the variables.\n",
        "For a more standardized measure of the strength of the relationship, you would use the correlation coefficient, which is calculated using covariance."
      ],
      "metadata": {
        "id": "-xZzwOQg4oWC"
      }
    },
    {
      "cell_type": "markdown",
      "source": [
        "# 22.  What does correlation measure in statistics ?\n",
        "\n",
        "  - Correlation in statistics measures the strength and direction of the linear relationship between two variables.\n",
        "\n",
        "In simpler terms:\n",
        "\n",
        "It tells you how two variables tend to change together. If one variable increases, does the other tend to increase as well (positive correlation), or does it tend to decrease (negative correlation), or is there no clear pattern (no correlation)?\n",
        "\n",
        "# Key aspects of correlation:\n",
        "\n",
        "# 1:- Strength:\n",
        "How closely the two variables move together. A stronger correlation means the relationship is more predictable. Correlation is typically measured on a scale from -1 to +1.\n",
        "\n",
        "#2:-Direction:\n",
        "Whether the variables move in the same direction (positive correlation) or opposite directions (negative correlation).\n",
        "    \n",
        "    Positive correlation: As one variable increases, the other tends to increase.\n",
        "\n",
        "    Negative correlation: As one variable increases, the other tends to decrease.\n",
        "\n",
        "    Zero correlation: There's no clear linear relationship between the variables."
      ],
      "metadata": {
        "id": "M1VWCRYS4oZ7"
      }
    },
    {
      "cell_type": "markdown",
      "source": [
        "# 23.  What is the difference between covariance and correlation ?\n",
        "\n",
        "# Covariance\n",
        "\n",
        "# 1. Definition:\n",
        "Covariance measures the directional relationship between two variables. It indicates whether the variables tend to move together (positive covariance), move in opposite directions (negative covariance), or have no linear relationship (zero covariance).\n",
        "\n",
        "# 2. Calculation:\n",
        "It's calculated by analyzing the deviations of each variable from their respective means.\n",
        "\n",
        "# 3. Interpretation:\n",
        "    1:- Positive covariance: Variables tend to increase or decrease together.\n",
        "    \n",
        "    2:- Negative covariance: One variable tends to increase while the other decreases.\n",
        "    \n",
        "    3:-Zero covariance: There's no linear relationship, but there could be a non-linear one.\n",
        "\n",
        "# 4.Limitations:\n",
        "\n",
        "    1.The magnitude of covariance is not standardized and is affected by the scales of the variables, making it difficult to compare covariances across different datasets.\n",
        "\n",
        "    2.It only measures linear relationships and may not capture non-linear associations.\n",
        "\n",
        "# Correlation\n",
        "\n",
        "# 1:- Definition:\n",
        "Correlation is a standardized measure of the relationship between two variables. It ranges from -1 to +1, indicating the strength and direction of the linear relationship.\n",
        "\n",
        "# 2:- calculation:\n",
        "Calculated using the formula:\n",
        "\n",
        "    # Corr(X, Y) = Cov(X, Y) / (σX * σY)\n",
        "where:\n",
        "\n",
        "Cov(X, Y) is the covariance between X and Y.\n",
        "σX and σY are the standard deviations of X and Y.\n",
        "\n",
        "# Interpretation:\n",
        "+1: Perfect positive correlation (variables move together in the same direction).\n",
        "-1: Perfect negative correlation (variables move in opposite directions).\n",
        "0: No linear correlation (no relationship or a non-linear relationship).\n",
        "Values between -1 and +1: Indicate the strength and direction of the linear relationship.\n",
        "\n",
        "# Advantages over Covariance:\n",
        "Standardized: Allows for comparison between different datasets.\n",
        "Easier to interpret: The magnitude directly represents the strength of the relationship.\n"
      ],
      "metadata": {
        "id": "xcHDAcm24od0"
      }
    },
    {
      "cell_type": "markdown",
      "source": [
        "# 24. What are some real-world applications of statistics?\n",
        "\n",
        "\n",
        "# 1:-  Business and Finance:\n",
        "\n",
        "Market Research: Companies use statistics to understand customer preferences, market trends, and competitor analysis.\n",
        "Risk Assessment: Financial institutions use statistical models to assess and manage risks associated with loans, investments, and insurance.\n",
        "Fraud Detection: Statistical methods are used to identify fraudulent transactions in banking and finance.\n",
        "\n",
        "# 2:- Healthcare:\n",
        "\n",
        "Drug Development: Pharmaceutical companies rely on statistical analysis to design clinical trials, analyze data, and determine the effectiveness and safety of new drugs.\n",
        "Disease Surveillance: Public health organizations track and monitor the spread of diseases using statistical models.\n",
        "Medical Diagnosis: Statistical methods can be used to develop diagnostic tools and predict the likelihood of certain medical conditions.\n",
        "\n",
        "# 3:- Sports:\n",
        "\n",
        "Player Performance Analysis: Statistics are used to evaluate player performance, identify strengths and weaknesses, and make strategic decisions in sports.\n",
        "Predicting Outcomes: Statistical models are used to predict the outcome of games and tournaments.\n",
        "Scouting and Recruitment: Statistics are used in scouting and recruitment to identify promising players based on their performance data.\n",
        "\n",
        "# 4:- Social Sciences:\n",
        "\n",
        "Surveys and Polling: Statistics is used to design and analyze surveys and polls to understand public opinion and social trends.\n",
        "Crime Analysis: Law enforcement agencies use statistical methods to identify crime patterns and predict future crime hotspots.\n",
        "Social Research: Statistical analysis is used in research studies to understand social phenomena, relationships between variables, and impacts of interventions."
      ],
      "metadata": {
        "id": "5w2_j8PA4ohD"
      }
    },
    {
      "cell_type": "markdown",
      "source": [
        "#  ***Statistics Basics  Practical Question ***"
      ],
      "metadata": {
        "id": "DEjaCXn54okc"
      }
    },
    {
      "cell_type": "code",
      "source": [
        "# Q.1  How do you calculate the mean, median, and mode of a dataset ?\n",
        "# 1. Mean:\n",
        "import numpy as np\n",
        "\n",
        "data = [1, 2, 3, 4, 5]  # Your dataset\n",
        "\n",
        "# Using NumPy\n",
        "mean = np.mean(data)\n",
        "print(f\"Mean: {mean}\")\n",
        "\n",
        "# Using built-in functions\n",
        "mean = sum(data) / len(data)\n",
        "print(f\"Mean: {mean}\")\n"
      ],
      "metadata": {
        "colab": {
          "base_uri": "https://localhost:8080/"
        },
        "id": "Blosmv4tI8zf",
        "outputId": "1a9e9cdd-acc9-4c31-ee75-acbba138cfd8"
      },
      "execution_count": 4,
      "outputs": [
        {
          "output_type": "stream",
          "name": "stdout",
          "text": [
            "Mean: 3.0\n",
            "Mean: 3.0\n"
          ]
        }
      ]
    },
    {
      "cell_type": "code",
      "source": [
        "# 2. Median:\n",
        "import numpy as np\n",
        "\n",
        "data = [1, 2, 3, 4, 5]  # Your dataset\n",
        "\n",
        "# Using NumPy\n",
        "median = np.median(data)\n",
        "print(f\"Median: {median}\")\n"
      ],
      "metadata": {
        "colab": {
          "base_uri": "https://localhost:8080/"
        },
        "id": "jgsX-zrOI83H",
        "outputId": "609f39b4-00c4-472d-8150-cd34bffb02d2"
      },
      "execution_count": 5,
      "outputs": [
        {
          "output_type": "stream",
          "name": "stdout",
          "text": [
            "Median: 3.0\n"
          ]
        }
      ]
    },
    {
      "cell_type": "code",
      "source": [
        "# 3. Mode:\n",
        "# 3. Mode:\n",
        "from scipy import stats\n",
        "\n",
        "data = [1, 2, 2, 3, 4, 5]  # Your dataset\n",
        "\n",
        "# Using SciPy\n",
        "mode = stats.mode(data)\n",
        "\n",
        "# Check if mode.mode is an array before accessing with an index\n",
        "if isinstance(mode.mode, np.ndarray) and mode.mode.size > 0:\n",
        "    print(f\"Mode: {mode.mode[0]}\")  # Access the mode value if it's an array\n",
        "else:\n",
        "    print(f\"Mode: {mode.mode}\")  # Print the mode value directly if it's a scalar\n"
      ],
      "metadata": {
        "colab": {
          "base_uri": "https://localhost:8080/"
        },
        "id": "THedk2eTI86n",
        "outputId": "1b1aeeb3-6c6e-4d68-c565-8cb34991dec3"
      },
      "execution_count": 6,
      "outputs": [
        {
          "output_type": "stream",
          "name": "stdout",
          "text": [
            "Mode: 2\n"
          ]
        }
      ]
    },
    {
      "cell_type": "code",
      "source": [
        "# Q.2  Write a Python program to compute the variance and standard deviation of a dataset.\n",
        "import numpy as np\n",
        "\n",
        "# Your dataset\n",
        "data = [1, 2, 3, 4, 5]\n",
        "\n",
        "# Calculate variance\n",
        "variance = np.var(data)\n",
        "print(f\"Variance: {variance}\")\n",
        "\n",
        "# Calculate standard deviation\n",
        "std_dev = np.std(data)\n",
        "print(f\"Standard Deviation: {std_dev}\")"
      ],
      "metadata": {
        "colab": {
          "base_uri": "https://localhost:8080/"
        },
        "id": "FvubN46OI89-",
        "outputId": "fdd03153-ddda-47a9-bb53-1677b048cd97"
      },
      "execution_count": 7,
      "outputs": [
        {
          "output_type": "stream",
          "name": "stdout",
          "text": [
            "Variance: 2.0\n",
            "Standard Deviation: 1.4142135623730951\n"
          ]
        }
      ]
    },
    {
      "cell_type": "code",
      "source": [
        "#Q.3  Create a dataset and classify it into nominal, ordinal, interval, and ratio types.\n",
        "import pandas as pd\n",
        "\n",
        "# Create a sample dataset\n",
        "data = {\n",
        "    'Gender': ['Male', 'Female', 'Male', 'Female', 'Male'],\n",
        "    'Education Level': ['High School', 'Bachelor\\'s', 'Master\\'s', 'PhD', 'Bachelor\\'s'],\n",
        "    'Temperature (Celsius)': [25, 28, 22, 20, 26],\n",
        "    'Weight (kg)': [70, 65, 80, 55, 75],\n",
        "    'Income (USD)': [50000, 60000, 75000, 100000, 65000]\n",
        "}\n",
        "\n",
        "df = pd.DataFrame(data)\n",
        "\n",
        "# Classification of variables:\n",
        "# Nominal: Gender\n",
        "# Ordinal: Education Level\n",
        "# Interval: Temperature (Celsius)\n",
        "# Ratio: Weight (kg), Income (USD)\n",
        "\n",
        "print(df)"
      ],
      "metadata": {
        "colab": {
          "base_uri": "https://localhost:8080/"
        },
        "id": "Ok-ih6Q6I9B2",
        "outputId": "96af9c4a-0da1-4d59-aad3-d1832ded531d"
      },
      "execution_count": 8,
      "outputs": [
        {
          "output_type": "stream",
          "name": "stdout",
          "text": [
            "   Gender Education Level  Temperature (Celsius)  Weight (kg)  Income (USD)\n",
            "0    Male     High School                     25           70         50000\n",
            "1  Female      Bachelor's                     28           65         60000\n",
            "2    Male        Master's                     22           80         75000\n",
            "3  Female             PhD                     20           55        100000\n",
            "4    Male      Bachelor's                     26           75         65000\n"
          ]
        }
      ]
    },
    {
      "cell_type": "code",
      "source": [
        "# 4.  Implement sampling techniques like random sampling and stratified sampling.\n",
        "\n",
        "# Random sampling\n",
        "\n",
        "import numpy as np\n",
        "\n",
        "# Your population data (e.g., a list of values)\n",
        "population = np.arange(1, 101)  # Numbers from 1 to 100\n",
        "\n",
        "# Sample size\n",
        "sample_size = 10\n",
        "\n",
        "# Random sampling with replacement\n",
        "random_sample = np.random.choice(population, size=sample_size, replace=True)\n",
        "\n",
        "# Random sampling without replacement\n",
        "random_sample_without_replacement = np.random.choice(population, size=sample_size, replace=False)\n",
        "\n",
        "print(\"Random Sample with Replacement:\", random_sample)\n",
        "print(\"Random Sample without Replacement:\", random_sample_without_replacement)"
      ],
      "metadata": {
        "colab": {
          "base_uri": "https://localhost:8080/"
        },
        "id": "T1U_ZiU2Ma_Q",
        "outputId": "7d7c979e-08fd-4863-f176-f17a6b9b8f65"
      },
      "execution_count": 9,
      "outputs": [
        {
          "output_type": "stream",
          "name": "stdout",
          "text": [
            "Random Sample with Replacement: [18 47 85 40 18  9 24  6 43 54]\n",
            "Random Sample without Replacement: [50 61 60 37 65 85 49 18 88 45]\n"
          ]
        }
      ]
    },
    {
      "cell_type": "code",
      "source": [
        "# Stratified Sampling\n",
        "\n",
        "import pandas as pd\n",
        "from sklearn.model_selection import train_test_split\n",
        "\n",
        "# Your dataset (e.g., a Pandas DataFrame)\n",
        "data = pd.DataFrame({'category': ['A', 'B', 'C', 'A', 'B', 'C', 'A', 'B', 'C', 'A'],\n",
        "                   'value': [10, 20, 30, 15, 25, 35, 12, 22, 32, 18]})\n",
        "\n",
        "# Stratify by 'category' column\n",
        "strata = data['category']\n",
        "\n",
        "# Split the data into training and testing sets (e.g., 80% train, 20% test)\n",
        "train_data, test_data = train_test_split(data, test_size=0.3, stratify=strata, random_state=42)\n",
        "\n",
        "print(\"Training Data:\\n\", train_data)\n",
        "print(\"\\nTesting Data:\\n\", test_data)"
      ],
      "metadata": {
        "colab": {
          "base_uri": "https://localhost:8080/"
        },
        "id": "d88az_QrMbC5",
        "outputId": "d9c536b1-3b0e-41ab-8669-d0cb998e700d"
      },
      "execution_count": 10,
      "outputs": [
        {
          "output_type": "stream",
          "name": "stdout",
          "text": [
            "Training Data:\n",
            "   category  value\n",
            "5        C     35\n",
            "3        A     15\n",
            "1        B     20\n",
            "4        B     25\n",
            "0        A     10\n",
            "9        A     18\n",
            "8        C     32\n",
            "\n",
            "Testing Data:\n",
            "   category  value\n",
            "2        C     30\n",
            "7        B     22\n",
            "6        A     12\n"
          ]
        }
      ]
    },
    {
      "cell_type": "code",
      "source": [
        "# Q.5  Write a Python function to calculate the range of a dataset.\n",
        "def calculate_range(data):\n",
        "  \"\"\"Calculates the range of a dataset.\n",
        "\n",
        "  Args:\n",
        "    data: A list or NumPy array of numerical data.\n",
        "\n",
        "  Returns:\n",
        "    The range of the dataset, which is the difference between the maximum and minimum values.\n",
        "  \"\"\"\n",
        "  if not data:  # Check if the dataset is empty\n",
        "    return 0  # Return 0 if the dataset is empty (to avoid errors)\n",
        "\n",
        "  # Find the maximum and minimum values in the dataset\n",
        "  maximum = max(data)\n",
        "  minimum = min(data)\n",
        "\n",
        "  # Calculate the range\n",
        "  range_value = maximum - minimum\n",
        "  return range_value\n",
        "\n",
        "# Example usage:\n",
        "dataset = [10, 5, 20, 15, 25]\n",
        "data_range = calculate_range(dataset)\n",
        "print(f\"The range of the dataset is: {data_range}\")"
      ],
      "metadata": {
        "colab": {
          "base_uri": "https://localhost:8080/"
        },
        "id": "amLxj8x-MbGI",
        "outputId": "2e74e5e7-80f4-4ba3-bfa9-8ae16e1bd40d"
      },
      "execution_count": 11,
      "outputs": [
        {
          "output_type": "stream",
          "name": "stdout",
          "text": [
            "The range of the dataset is: 20\n"
          ]
        }
      ]
    },
    {
      "cell_type": "code",
      "source": [
        "# Q.6 Create a dataset and plot its histogram to visualize skewness.\n",
        "\n",
        "import numpy as np\n",
        "import matplotlib.pyplot as plt\n",
        "import seaborn as sns\n",
        "\n",
        "# 1. Create a dataset with skewness:\n",
        "# You can use NumPy's random functions to create skewed data.\n",
        "# Here, we'll create data with positive (right) skewness:\n",
        "\n",
        "data = np.random.gamma(2, 2, 1000)  # Gamma distribution with shape=2, scale=2, size=1000\n",
        "\n",
        "# 2. Plot the histogram:\n",
        "# Use Matplotlib's `hist()` or Seaborn's `histplot()` to create a histogram.\n",
        "\n",
        "plt.figure(figsize=(8, 6))  # Adjust figure size if needed\n",
        "sns.histplot(data, bins=30, kde=True)  # `kde=True` adds a kernel density estimate curve\n",
        "plt.title('Histogram with Skewness')\n",
        "plt.xlabel('Value')\n",
        "plt.ylabel('Frequency')\n",
        "plt.show()"
      ],
      "metadata": {
        "colab": {
          "base_uri": "https://localhost:8080/",
          "height": 564
        },
        "id": "QG2f3Z8pMbJm",
        "outputId": "b0e34629-a2be-448d-f498-93c69d86d4d2"
      },
      "execution_count": 12,
      "outputs": [
        {
          "output_type": "display_data",
          "data": {
            "text/plain": [
              "<Figure size 800x600 with 1 Axes>"
            ],
            "image/png": "[encoded data removed]"
          },
          "metadata": {}
        }
      ]
    },
    {
      "cell_type": "code",
      "source": [
        "# Q.7  Calculate skewness and kurtosis of a dataset using Python libraries.\n",
        "\n",
        "\n",
        "#1. Import necessary libraries:\n",
        "import pandas as pd  # For data handling (if using a DataFrame)\n",
        "import scipy.stats as stats  # For statistical functions\n",
        "\n",
        "# 2. Load or create your dataset:\n",
        "# If using a Pandas DataFrame:\n",
        "# data = pd.read_csv('services.csv')  # Replace 'services.csv' with your file path\n",
        "# If using a NumPy array:\n",
        "import numpy as np\n",
        "data = np.array([1, 2, 3, 4, 5, 6, 7, 8, 9, 10])\n",
        "\n",
        "# 3. Calculate skewness:\n",
        "# Using scipy.stats:\n",
        "skewness = stats.skew(data)\n",
        "print(f\"Skewness: {skewness}\")\n",
        "# Using pandas (if using a DataFrame):\n",
        "# Create a DataFrame from the NumPy array if you want to use Pandas methods\n",
        "df = pd.DataFrame(data, columns=['values'])\n",
        "skewness = df['values'].skew()  # Access the column by name in the DataFrame\n",
        "print(f\"Skewness using Pandas: {skewness}\")\n",
        "\n",
        "# 4. Calculate kurtosis:\n",
        "# Using scipy.stats:\n",
        "kurtosis = stats.kurtosis(data)  # Note: This calculates excess kurtosis (kurtosis - 3)\n",
        "print(f\"Kurtosis: {kurtosis}\")\n",
        "# Using pandas (if using a DataFrame):\n",
        "kurtosis = df['values'].kurtosis()  # Access the column by name in the DataFrame\n",
        "print(f\"Kurtosis using Pandas: {kurtosis}\")\n",
        "\n"
      ],
      "metadata": {
        "colab": {
          "base_uri": "https://localhost:8080/"
        },
        "id": "9ZB4KQaVMbNJ",
        "outputId": "f1274815-74c2-49b7-e7b6-84edd4e609d0"
      },
      "execution_count": 13,
      "outputs": [
        {
          "output_type": "stream",
          "name": "stdout",
          "text": [
            "Skewness: 0.0\n",
            "Skewness using Pandas: 0.0\n",
            "Kurtosis: -1.2242424242424244\n",
            "Kurtosis using Pandas: -1.2000000000000002\n"
          ]
        }
      ]
    },
    {
      "cell_type": "code",
      "source": [
        "# Q.8  Generate a dataset and demonstrate positive and negative skewness.\n",
        "import numpy as np\n",
        "import matplotlib.pyplot as plt\n",
        "import seaborn as sns\n",
        "\n",
        "# Generate data\n",
        "positive_skew_data = np.random.gamma(2, 2, 1000)  # Gamma for positive skew\n",
        "negative_skew_data = np.random.beta(5, 2, 1000)  # Beta for negative skew\n",
        "\n",
        "# Create subplots\n",
        "fig, axes = plt.subplots(1, 2, figsize=(12, 6))\n",
        "\n",
        "# Plot positive skew\n",
        "sns.histplot(positive_skew_data, bins=30, kde=True, ax=axes[0])\n",
        "axes[0].set_title('Positive Skewness (Right-Skewed)')\n",
        "axes[0].set_xlabel('Value')\n",
        "axes[0].set_ylabel('Frequency')\n",
        "\n",
        "# Plot negative skew\n",
        "sns.histplot(negative_skew_data, bins=30, kde=True, ax=axes[1])\n",
        "axes[1].set_title('Negative Skewness (Left-Skewed)')\n",
        "axes[1].set_xlabel('Value')\n",
        "axes[1].set_ylabel('Frequency')\n",
        "\n",
        "plt.tight_layout()\n",
        "plt.show()"
      ],
      "metadata": {
        "colab": {
          "base_uri": "https://localhost:8080/",
          "height": 607
        },
        "id": "LoZAgT6rMbUg",
        "outputId": "fad66e90-7d89-4689-9f37-a0443e96bc46"
      },
      "execution_count": 14,
      "outputs": [
        {
          "output_type": "display_data",
          "data": {
            "text/plain": [
              "<Figure size 1200x600 with 2 Axes>"
            ],
            "image/png": "[encoded data removed]"
          },
          "metadata": {}
        }
      ]
    },
    {
      "cell_type": "code",
      "source": [
        "# Q.9  Write a Python script to calculate covariance between two datasets.\n",
        "import numpy as np\n",
        "\n",
        "def calculate_covariance(dataset1, dataset2):\n",
        "    \"\"\"Calculates the covariance between two datasets.\n",
        "\n",
        "    Args:\n",
        "        dataset1: The first dataset (a list or NumPy array).\n",
        "        dataset2: The second dataset (a list or NumPy array).\n",
        "\n",
        "    Returns:\n",
        "        The covariance between the two datasets.\n",
        "    \"\"\"\n",
        "    # Convert datasets to NumPy arrays if they aren't already\n",
        "    dataset1 = np.array(dataset1)\n",
        "    dataset2 = np.array(dataset2)\n",
        "\n",
        "    # Check if the datasets have the same length\n",
        "    if len(dataset1) != len(dataset2):\n",
        "        raise ValueError(\"Datasets must have the same length.\")\n",
        "\n",
        "    # Calculate the means of the datasets\n",
        "    mean1 = np.mean(dataset1)\n",
        "    mean2 = np.mean(dataset2)\n",
        "\n",
        "    # Calculate the covariance\n",
        "    covariance = np.sum((dataset1 - mean1) * (dataset2 - mean2)) / (len(dataset1) - 1)\n",
        "\n",
        "    return covariance\n",
        "\n",
        "# Example usage:\n",
        "dataset1 = [1, 2, 3, 4, 5]\n",
        "dataset2 = [5, 4, 3, 2, 1]\n",
        "\n",
        "covariance = calculate_covariance(dataset1, dataset2)\n",
        "print(f\"Covariance between dataset1 and dataset2: {covariance}\")"
      ],
      "metadata": {
        "colab": {
          "base_uri": "https://localhost:8080/"
        },
        "id": "elf1-CGmMbX4",
        "outputId": "acbb0773-b09b-4250-fd54-9603ebf595d1"
      },
      "execution_count": 15,
      "outputs": [
        {
          "output_type": "stream",
          "name": "stdout",
          "text": [
            "Covariance between dataset1 and dataset2: -2.5\n"
          ]
        }
      ]
    },
    {
      "cell_type": "code",
      "source": [
        "# Q.10 Write a Python script to calculate the correlation coefficient between two datasets.\n",
        "\n",
        "import numpy as np\n",
        "\n",
        "def calculate_correlation_coefficient(dataset1, dataset2):\n",
        "    \"\"\"Calculates the correlation coefficient between two datasets.\n",
        "\n",
        "    Args:\n",
        "        dataset1: The first dataset (a list or NumPy array).\n",
        "        dataset2: The second dataset (a list or NumPy array).\n",
        "\n",
        "    Returns:\n",
        "        The correlation coefficient between the two datasets.\n",
        "    \"\"\"\n",
        "    # Convert datasets to NumPy arrays if they aren't already\n",
        "    dataset1 = np.array(dataset1)\n",
        "    dataset2 = np.array(dataset2)\n",
        "\n",
        "    # Check if the datasets have the same length\n",
        "    if len(dataset1) != len(dataset2):\n",
        "        raise ValueError(\"Datasets must have the same length.\")\n",
        "\n",
        "    # Calculate the correlation coefficient using NumPy's corrcoef function\n",
        "    correlation_matrix = np.corrcoef(dataset1, dataset2)\n",
        "\n",
        "    # The correlation coefficient is the element at index [0, 1] or [1, 0]\n",
        "    # in the correlation matrix (they are the same)\n",
        "    correlation_coefficient = correlation_matrix[0, 1]\n",
        "\n",
        "    return correlation_coefficient\n",
        "\n",
        "# Example usage:\n",
        "dataset1 = [1, 2, 3, 4, 5]\n",
        "dataset2 = [5, 4, 3, 2, 1]\n",
        "\n",
        "correlation = calculate_correlation_coefficient(dataset1, dataset2)\n",
        "print(f\"Correlation coefficient between dataset1 and dataset2: {correlation}\")"
      ],
      "metadata": {
        "colab": {
          "base_uri": "https://localhost:8080/"
        },
        "id": "zyo00mRbMbbJ",
        "outputId": "b52e7000-0c4e-4d9c-8860-3c63d49697db"
      },
      "execution_count": 16,
      "outputs": [
        {
          "output_type": "stream",
          "name": "stdout",
          "text": [
            "Correlation coefficient between dataset1 and dataset2: -0.9999999999999999\n"
          ]
        }
      ]
    },
    {
      "cell_type": "code",
      "source": [
        "# Q.11  Create a scatter plot to visualize the relationship between two variables.\n",
        "\n",
        "import matplotlib.pyplot as plt\n",
        "import numpy as np\n",
        "\n",
        "# Generate sample data (replace with your own data if needed)\n",
        "x = np.random.rand(50)\n",
        "y = 2 * x + 1 + np.random.randn(50) * 0.5\n",
        "\n",
        "# Create the scatter plot\n",
        "plt.figure(figsize=(8, 6))\n",
        "plt.scatter(x, y, marker='o', color='blue', alpha=0.7)\n",
        "plt.title('Scatter Plot of X vs. Y')\n",
        "plt.xlabel('X-axis')\n",
        "plt.ylabel('Y-axis')\n",
        "plt.grid(True)\n",
        "plt.show()"
      ],
      "metadata": {
        "id": "bGdCtdTGYSqH",
        "colab": {
          "base_uri": "https://localhost:8080/",
          "height": 564
        },
        "outputId": "269d9e73-130b-4a7b-db62-66cd42a6de1d"
      },
      "execution_count": 17,
      "outputs": [
        {
          "output_type": "display_data",
          "data": {
            "text/plain": [
              "<Figure size 800x600 with 1 Axes>"
            ],
            "image/png": "[encoded data removed]"
          },
          "metadata": {}
        }
      ]
    },
    {
      "cell_type": "code",
      "source": [
        "# Q.12  Implement and compare simple random sampling and systematic sampling.\n",
        "\n",
        "#  Simple Random Sampling\n",
        "import numpy as np\n",
        "\n",
        "# Your population data (e.g., a list of values)\n",
        "population = np.arange(1, 101)  # Numbers from 1 to 100\n",
        "\n",
        "# Sample size\n",
        "sample_size = 10\n",
        "\n",
        "# Random sampling with replacement\n",
        "random_sample = np.random.choice(population, size=sample_size, replace=True)\n",
        "\n",
        "# Random sampling without replacement\n",
        "random_sample_without_replacement = np.random.choice(population, size=sample_size, replace=False)\n",
        "\n",
        "print(\"Random Sample with Replacement:\", random_sample)\n",
        "print(\"Random Sample without Replacement:\", random_sample_without_replacement)"
      ],
      "metadata": {
        "id": "QlB1zdX9YSt5",
        "colab": {
          "base_uri": "https://localhost:8080/"
        },
        "outputId": "41e2ea8e-cc58-43d6-e735-d5e4b1577630"
      },
      "execution_count": 18,
      "outputs": [
        {
          "output_type": "stream",
          "name": "stdout",
          "text": [
            "Random Sample with Replacement: [51 68 30 40 40 34  6 70 15 72]\n",
            "Random Sample without Replacement: [25 85 13 90 24  2 52 63 26 33]\n"
          ]
        }
      ]
    },
    {
      "cell_type": "code",
      "source": [
        "# Systematic Sampling\n",
        "import numpy as np\n",
        "\n",
        "# Your population data\n",
        "population = np.arange(1, 101)\n",
        "\n",
        "# Sample size\n",
        "sample_size = 10\n",
        "\n",
        "# Calculate the interval (k)\n",
        "interval = len(population) // sample_size\n",
        "\n",
        "# Generate a random start point within the interval\n",
        "start_point = np.random.randint(1, interval + 1)\n",
        "\n",
        "# Select elements at regular intervals\n",
        "systematic_sample = population[start_point - 1::interval]\n",
        "\n",
        "print(\"Systematic Sample:\", systematic_sample)"
      ],
      "metadata": {
        "id": "DTNObZR8YSxY",
        "colab": {
          "base_uri": "https://localhost:8080/"
        },
        "outputId": "9daeef9e-2105-4c92-add4-dca367c835bc"
      },
      "execution_count": 19,
      "outputs": [
        {
          "output_type": "stream",
          "name": "stdout",
          "text": [
            "Systematic Sample: [ 3 13 23 33 43 53 63 73 83 93]\n"
          ]
        }
      ]
    },
    {
      "cell_type": "code",
      "source": [
        "# Q.13 Calculate the mean, median, and mode of grouped data.\n",
        "\n",
        "# 1. Mean:-\n",
        "import numpy as np\n",
        "\n",
        "def mean_grouped_data(midpoints, frequencies):\n",
        "  \"\"\"Calculates the mean of grouped data.\n",
        "\n",
        "  Args:\n",
        "    midpoints: A list or NumPy array of midpoints of the data classes.\n",
        "    frequencies: A list or NumPy array of frequencies of each class.\n",
        "\n",
        "  Returns:\n",
        "    The mean of the grouped data.\n",
        "  \"\"\"\n",
        "\n",
        "  # Multiply midpoints by frequencies and sum them\n",
        "  weighted_sum = np.sum(np.multiply(midpoints, frequencies))\n",
        "\n",
        "  # Calculate the mean\n",
        "  mean = weighted_sum / np.sum(frequencies)\n",
        "\n",
        "  return mean\n",
        "\n",
        "# Example usage:\n",
        "midpoints = [15, 25, 35, 45, 55]  # Midpoints of data classes\n",
        "frequencies = [10, 20, 30, 25, 15]  # Frequencies of each class\n",
        "\n",
        "mean = mean_grouped_data(midpoints, frequencies)\n",
        "print(f\"Mean of grouped data: {mean}\")"
      ],
      "metadata": {
        "id": "_ZBiUPS4YS0e",
        "colab": {
          "base_uri": "https://localhost:8080/"
        },
        "outputId": "e215d910-bd3c-4234-d964-cd7d59733634"
      },
      "execution_count": 20,
      "outputs": [
        {
          "output_type": "stream",
          "name": "stdout",
          "text": [
            "Mean of grouped data: 36.5\n"
          ]
        }
      ]
    },
    {
      "cell_type": "code",
      "source": [
        "#2. Median:-\n",
        "import numpy as np\n",
        "\n",
        "def median_grouped_data(lower_limits, frequencies, total_frequency):\n",
        "  \"\"\"Calculates the median of grouped data.\n",
        "\n",
        "  Args:\n",
        "    lower_limits: A list or NumPy array of lower limits of the data classes.\n",
        "    frequencies: A list or NumPy array of frequencies of each class.\n",
        "    total_frequency: The total number of data points.\n",
        "\n",
        "  Returns:\n",
        "    The median of the grouped data.\n",
        "  \"\"\"\n",
        "\n",
        "  # Calculate cumulative frequencies\n",
        "  cumulative_frequencies = np.cumsum(frequencies)\n",
        "\n",
        "  # Find the median class (class containing the middle value)\n",
        "  median_class_index = next(i for i, value in enumerate(cumulative_frequencies) if value >= total_frequency / 2)\n",
        "\n",
        "  # Calculate the median\n",
        "  lower_limit_median_class = lower_limits[median_class_index]\n",
        "  frequency_median_class = frequencies[median_class_index]\n",
        "  cumulative_frequency_before_median_class = cumulative_frequencies[median_class_index - 1] if median_class_index > 0 else 0\n",
        "\n",
        "  median = lower_limit_median_class + (((total_frequency / 2) - cumulative_frequency_before_median_class) / frequency_median_class)\n",
        "\n",
        "  return median\n",
        "\n",
        "# Example usage:\n",
        "lower_limits = [10, 20, 30, 40, 50]  # Lower limits of data classes\n",
        "frequencies = [10, 20, 30, 25, 15]  # Frequencies of each class\n",
        "total_frequency = np.sum(frequencies)\n",
        "\n",
        "median = median_grouped_data(lower_limits, frequencies, total_frequency)\n",
        "print(f\"Median of grouped data: {median}\")\n"
      ],
      "metadata": {
        "id": "zZ9j1WxmYS7P",
        "colab": {
          "base_uri": "https://localhost:8080/"
        },
        "outputId": "67b4bdc4-5de9-4617-c535-9cde8fe181de"
      },
      "execution_count": 21,
      "outputs": [
        {
          "output_type": "stream",
          "name": "stdout",
          "text": [
            "Median of grouped data: 30.666666666666668\n"
          ]
        }
      ]
    },
    {
      "cell_type": "code",
      "source": [
        "# 3. Mode:-\n",
        "def mode_grouped_data(midpoints, frequencies):\n",
        "  \"\"\"Calculates the mode of grouped data.\n",
        "\n",
        "  Args:\n",
        "    midpoints: A list or NumPy array of midpoints of the data classes.\n",
        "    frequencies: A list or NumPy array of frequencies of each class.\n",
        "\n",
        "  Returns:\n",
        "    The mode of the grouped data.\n",
        "  \"\"\"\n",
        "\n",
        "  # Find the class with the highest frequency (modal class)\n",
        "  modal_class_index = np.argmax(frequencies)\n",
        "\n",
        "  # The mode is the midpoint of the modal class\n",
        "  mode = midpoints[modal_class_index]\n",
        "\n",
        "  return mode\n",
        "\n",
        "# Example usage:\n",
        "midpoints = [15, 25, 35, 45, 55]  # Midpoints of data classes\n",
        "frequencies = [10, 20, 30, 25, 15]  # Frequencies of each class\n",
        "\n",
        "mode = mode_grouped_data(midpoints, frequencies)\n",
        "print(f\"Mode of grouped data: {mode}\")"
      ],
      "metadata": {
        "id": "bqbFvXDSYS-h",
        "colab": {
          "base_uri": "https://localhost:8080/"
        },
        "outputId": "875e939e-53cb-4bf2-836b-2651e9fbe43e"
      },
      "execution_count": 22,
      "outputs": [
        {
          "output_type": "stream",
          "name": "stdout",
          "text": [
            "Mode of grouped data: 35\n"
          ]
        }
      ]
    },
    {
      "cell_type": "code",
      "source": [
        "# Q.14  Simulate data using Python and calculate its central tendency and dispersion.\n",
        "import numpy as np\n",
        "\n",
        "# 1. Simulate data:\n",
        "# You can use NumPy's random functions to generate data from various distributions.\n",
        "# Here, we'll simulate data from a normal distribution:\n",
        "data = np.random.normal(loc=50, scale=10, size=100)  # Mean=50, Std Dev=10, 100 data points\n",
        "\n",
        "# 2. Calculate central tendency:\n",
        "mean = np.mean(data)\n",
        "median = np.median(data)\n",
        "# For mode, you might need to use a library like SciPy:\n",
        "from scipy import stats\n",
        "# Check if mode.mode is an array before accessing with an index\n",
        "# If it's a scalar, access it directly, otherwise, use [0]\n",
        "mode = stats.mode(data).mode\n",
        "if isinstance(mode, np.ndarray) and mode.size > 0:\n",
        "    mode = mode[0]  # Access the mode value if it's an array\n",
        "else:\n",
        "    mode = mode  # Use the mode value directly if it's a scalar\n",
        "\n",
        "\n",
        "print(f\"Mean: {mean}\")\n",
        "print(f\"Median: {median}\")\n",
        "print(f\"Mode: {mode}\")\n",
        "\n",
        "# 3. Calculate dispersion:\n",
        "variance = np.var(data)\n",
        "std_dev = np.std(data)\n",
        "range_data = np.ptp(data)  # Peak-to-peak (range)\n",
        "\n",
        "print(f\"Variance: {variance}\")\n",
        "print(f\"Standard Deviation: {std_dev}\")\n",
        "print(f\"Range: {range_data}\")\n"
      ],
      "metadata": {
        "id": "mYsEvVAzYTB_",
        "colab": {
          "base_uri": "https://localhost:8080/"
        },
        "outputId": "85b822e0-e161-4a87-f701-b3c8d1278eae"
      },
      "execution_count": 23,
      "outputs": [
        {
          "output_type": "stream",
          "name": "stdout",
          "text": [
            "Mean: 50.42460049091447\n",
            "Median: 49.02234632492875\n",
            "Mode: 23.49419906172921\n",
            "Variance: 140.1206046080087\n",
            "Standard Deviation: 11.837254943947466\n",
            "Range: 55.94681442482194\n"
          ]
        }
      ]
    },
    {
      "cell_type": "code",
      "source": [
        "# Q.15 Use NumPy or pandas to summarize a dataset’s descriptive statistics.\n",
        "import numpy as np\n",
        "\n",
        "# Sample data\n",
        "data = np.array([1, 2, 3, 4, 5, 6, 7, 8, 9, 10])\n",
        "\n",
        "# Calculate descriptive statistics\n",
        "mean = np.mean(data)\n",
        "median = np.median(data)\n",
        "std_dev = np.std(data)\n",
        "variance = np.var(data)\n",
        "min_val = np.min(data)\n",
        "max_val = np.max(data)\n",
        "range_val = max_val - min_val\n",
        "\n",
        "# Print the results\n",
        "print(\"Mean:\", mean)\n",
        "print(\"Median:\", median)\n",
        "print(\"Standard Deviation:\", std_dev)\n",
        "print(\"Variance:\", variance)\n",
        "print(\"Minimum:\", min_val)\n",
        "print(\"Maximum:\", max_val)\n",
        "print(\"Range:\", range_val)"
      ],
      "metadata": {
        "id": "AAp6VBVsYTFn",
        "colab": {
          "base_uri": "https://localhost:8080/"
        },
        "outputId": "626d88ea-f82f-4cba-ac59-0161b5dc292c"
      },
      "execution_count": 24,
      "outputs": [
        {
          "output_type": "stream",
          "name": "stdout",
          "text": [
            "Mean: 5.5\n",
            "Median: 5.5\n",
            "Standard Deviation: 2.8722813232690143\n",
            "Variance: 8.25\n",
            "Minimum: 1\n",
            "Maximum: 10\n",
            "Range: 9\n"
          ]
        }
      ]
    },
    {
      "cell_type": "code",
      "source": [
        "# Q.16  Plot a boxplot to understand the spread and identify outliers.\n",
        "\n",
        "import matplotlib.pyplot as plt\n",
        "import seaborn as sns\n",
        "import numpy as np  # If you need to generate sample data\n",
        "\n",
        "# 1. Prepare your data:\n",
        "# If you have your data in a list or NumPy array:\n",
        "data = np.random.randn(100)  # Example: Generate random data\n",
        "# If you have your data in a Pandas DataFrame:\n",
        "# data = df['column_name']  # Replace 'column_name' with your column\n",
        "\n",
        "# 2. Create the boxplot using Seaborn:\n",
        "plt.figure(figsize=(8, 6))  # Adjust figure size if needed\n",
        "sns.boxplot(x=data)  # Use 'x=' for a horizontal boxplot, 'y=' for vertical\n",
        "plt.title('Boxplot to Visualize Spread and Outliers')\n",
        "plt.xlabel('Data')  # Adjust label if necessary\n",
        "plt.show()"
      ],
      "metadata": {
        "colab": {
          "base_uri": "https://localhost:8080/",
          "height": 564
        },
        "id": "W1IYq7ELrFUh",
        "outputId": "3fae09a8-9a22-44a3-b502-18c42ce215ab"
      },
      "execution_count": 25,
      "outputs": [
        {
          "output_type": "display_data",
          "data": {
            "text/plain": [
              "<Figure size 800x600 with 1 Axes>"
            ],
            "image/png": "[encoded data removed]"
          },
          "metadata": {}
        }
      ]
    },
    {
      "cell_type": "code",
      "source": [
        "# Q.17  Calculate the interquartile range (IQR) of a dataset.\n",
        "import numpy as np\n",
        "\n",
        "data = [1, 2, 3, 4, 5, 6, 7, 8, 9, 10]  # Replace with your actual dataset\n",
        "Q1 = np.percentile(data, 25)\n",
        "Q3 = np.percentile(data, 75)\n",
        "IQR = Q3 - Q1\n",
        "print(f\"Interquartile Range (IQR): {IQR}\")"
      ],
      "metadata": {
        "colab": {
          "base_uri": "https://localhost:8080/"
        },
        "id": "_7uESx09rFX_",
        "outputId": "d05c540c-8b3b-4bf2-894f-debcfeab4e74"
      },
      "execution_count": 26,
      "outputs": [
        {
          "output_type": "stream",
          "name": "stdout",
          "text": [
            "Interquartile Range (IQR): 4.5\n"
          ]
        }
      ]
    },
    {
      "cell_type": "code",
      "source": [
        "# Q.18  Implement Z-score normalization and explain its significance.\n",
        "\n",
        "import numpy as np\n",
        "\n",
        "def zscore_normalize(data):\n",
        "    \"\"\"Normalizes data using Z-score normalization.\n",
        "\n",
        "    Args:\n",
        "        data: A list or NumPy array of numerical data.\n",
        "\n",
        "    Returns:\n",
        "        A NumPy array containing the normalized data.\n",
        "    \"\"\"\n",
        "    mean = np.mean(data)\n",
        "    std_dev = np.std(data)\n",
        "    normalized_data = (data - mean) / std_dev\n",
        "    return normalized_data\n",
        "\n",
        "# Example Usage:\n",
        "data = [1, 2, 3, 4, 5]\n",
        "normalized_data = zscore_normalize(data)\n",
        "print(\"Original Data:\", data)\n",
        "print(\"Normalized Data:\", normalized_data)"
      ],
      "metadata": {
        "colab": {
          "base_uri": "https://localhost:8080/"
        },
        "id": "d2uooItArFbU",
        "outputId": "932a3210-c555-4635-b116-f4b101c3fe60"
      },
      "execution_count": 27,
      "outputs": [
        {
          "output_type": "stream",
          "name": "stdout",
          "text": [
            "Original Data: [1, 2, 3, 4, 5]\n",
            "Normalized Data: [-1.41421356 -0.70710678  0.          0.70710678  1.41421356]\n"
          ]
        }
      ]
    },
    {
      "cell_type": "code",
      "source": [
        "# Q.19  Compare two datasets using their standard deviations.\n",
        "\n",
        "import numpy as np\n",
        "\n",
        "dataset1 = [10, 12, 14, 16, 18]\n",
        "dataset2 = [5, 10, 15, 20, 25]\n",
        "\n",
        "std_dev1 = np.std(dataset1)\n",
        "std_dev2 = np.std(dataset2)\n",
        "\n",
        "print(\"Standard Deviation of Dataset 1:\", std_dev1)\n",
        "print(\"Standard Deviation of Dataset 2:\", std_dev2)\n",
        "\n",
        "if std_dev1 > std_dev2:\n",
        "    print(\"Dataset 1 has greater variability than Dataset 2.\")\n",
        "elif std_dev1 < std_dev2:\n",
        "    print(\"Dataset 2 has greater variability than Dataset 1.\")\n",
        "else:\n",
        "    print(\"Dataset 1 and Dataset 2 have similar variability.\")"
      ],
      "metadata": {
        "colab": {
          "base_uri": "https://localhost:8080/"
        },
        "id": "ICXJ2O5mrFee",
        "outputId": "32579faa-95af-42c7-9cf2-816cfbf65901"
      },
      "execution_count": 28,
      "outputs": [
        {
          "output_type": "stream",
          "name": "stdout",
          "text": [
            "Standard Deviation of Dataset 1: 2.8284271247461903\n",
            "Standard Deviation of Dataset 2: 7.0710678118654755\n",
            "Dataset 2 has greater variability than Dataset 1.\n"
          ]
        }
      ]
    },
    {
      "cell_type": "code",
      "source": [
        "# Q.20  Write a Python program to visualize covariance using a heatmap.\n",
        "\n",
        "import numpy as np\n",
        "import pandas as pd\n",
        "import seaborn as sns\n",
        "import matplotlib.pyplot as plt\n",
        "\n",
        "# Generate sample data (replace with your own data if needed)\n",
        "np.random.seed(42)  # For reproducibility\n",
        "num_samples = 100\n",
        "num_features = 5\n",
        "data = np.random.rand(num_samples, num_features)\n",
        "\n",
        "# Create a Pandas DataFrame from the data\n",
        "df = pd.DataFrame(data, columns=[f'Feature {i+1}' for i in range(num_features)])\n",
        "\n",
        "# Calculate the covariance matrix\n",
        "covariance_matrix = df.cov()\n",
        "\n",
        "# Create a heatmap of the covariance matrix\n",
        "plt.figure(figsize=(8, 6))\n",
        "sns.heatmap(covariance_matrix, annot=True, cmap='coolwarm', fmt=\".2f\", linewidths=.5)\n",
        "plt.title('Covariance Heatmap')\n",
        "plt.show()"
      ],
      "metadata": {
        "colab": {
          "base_uri": "https://localhost:8080/",
          "height": 545
        },
        "id": "Os1CFjnFrFlY",
        "outputId": "a245781b-3d8e-43a5-bb62-6ae06c989e7b"
      },
      "execution_count": 31,
      "outputs": [
        {
          "output_type": "display_data",
          "data": {
            "text/plain": [
              "<Figure size 800x600 with 2 Axes>"
            ],
            "image/png": "[encoded data removed]"
          },
          "metadata": {}
        }
      ]
    },
    {
      "cell_type": "code",
      "source": [
        "# Q.21  Use seaborn to create a correlation matrix for a dataset.\n",
        "import pandas as pd\n",
        "import seaborn as sns\n",
        "import matplotlib.pyplot as plt\n",
        "\n",
        "# create a sample dataset:\n",
        "data = pd.DataFrame({'A': [1, 2, 3, 4, 5],\n",
        "                   'B': [5, 4, 3, 2, 1],\n",
        "                   'C': [2, 3, 1, 4, 5]})\n",
        "\n",
        "# Calculate the correlation matrix\n",
        "correlation_matrix = data.corr()\n",
        "\n",
        "# Create the heatmap\n",
        "plt.figure(figsize=(8, 6))\n",
        "sns.heatmap(correlation_matrix, annot=True, cmap='coolwarm', fmt=\".2f\")\n",
        "plt.title('Correlation Matrix')\n",
        "plt.show()"
      ],
      "metadata": {
        "colab": {
          "base_uri": "https://localhost:8080/",
          "height": 545
        },
        "id": "M41OkuTjrFov",
        "outputId": "b3aa23ab-5101-4b42-f000-197a5d5c5e4b"
      },
      "execution_count": 32,
      "outputs": [
        {
          "output_type": "display_data",
          "data": {
            "text/plain": [
              "<Figure size 800x600 with 2 Axes>"
            ],
            "image/png": "[encoded data removed]"
          },
          "metadata": {}
        }
      ]
    },
    {
      "cell_type": "code",
      "source": [
        "# Q.22  Generate a dataset and implement both variance and standard deviation computations.\n",
        "\n",
        "import numpy as np\n",
        "\n",
        "# 1. Generate a dataset:\n",
        "# You can use NumPy's random functions to create a dataset.\n",
        "# Here, we'll create a dataset of 100 random numbers between 1 and 50:\n",
        "data = np.random.randint(1, 51, size=100)\n",
        "\n",
        "# 2. Calculate variance:\n",
        "# Use NumPy's `var()` function to calculate the variance:\n",
        "variance = np.var(data)\n",
        "print(f\"Variance: {variance}\")\n",
        "\n",
        "# You can also calculate variance manually using the formula:\n",
        "# variance = np.sum((data - np.mean(data))**2) / (len(data) - 1)  # For sample variance\n",
        "\n",
        "# 3. Calculate standard deviation:\n",
        "# Use NumPy's `std()` function to calculate the standard deviation:\n",
        "std_dev = np.std(data)\n",
        "print(f\"Standard Deviation: {std_dev}\")\n",
        "\n",
        "# You can also calculate standard deviation manually:\n",
        "# std_dev = np.sqrt(variance)"
      ],
      "metadata": {
        "colab": {
          "base_uri": "https://localhost:8080/"
        },
        "id": "VvquNDfUrFsH",
        "outputId": "f1434012-86ad-489b-c40f-004a3d461408"
      },
      "execution_count": 33,
      "outputs": [
        {
          "output_type": "stream",
          "name": "stdout",
          "text": [
            "Variance: 230.26190000000003\n",
            "Standard Deviation: 15.17438301875895\n"
          ]
        }
      ]
    },
    {
      "cell_type": "code",
      "source": [
        "# Q.23  Visualize skewness and kurtosis using Python libraries like matplotlib or seaborn.\n",
        "\n",
        "import numpy as np\n",
        "import matplotlib.pyplot as plt\n",
        "import seaborn as sns\n",
        "\n",
        "# 1. Create datasets:\n",
        "data_skewed = np.random.gamma(2, 2, 1000)  # Gamma distribution for skewness\n",
        "data_kurtosis = np.random.laplace(loc=0, scale=1, size=1000)  # Laplace distribution for kurtosis\n",
        "\n",
        "# 2. Create subplots:\n",
        "fig, axes = plt.subplots(1, 2, figsize=(12, 6))\n",
        "\n",
        "# 3. Visualize skewness:\n",
        "sns.histplot(data_skewed, bins=30, kde=True, ax=axes[0])\n",
        "axes[0].set_title('Histogram with Skewness')\n",
        "axes[0].set_xlabel('Value')\n",
        "axes[0].set_ylabel('Frequency')\n",
        "\n",
        "# 4. Visualize kurtosis:\n",
        "sns.histplot(data_kurtosis, bins=30, kde=True, ax=axes[1])\n",
        "axes[1].set_title('Histogram with Kurtosis')\n",
        "axes[1].set_xlabel('Value')\n",
        "axes[1].set_ylabel('Frequency')\n",
        "\n",
        "plt.tight_layout()\n",
        "plt.show()\n"
      ],
      "metadata": {
        "id": "0E_-M_pyrFvx",
        "colab": {
          "base_uri": "https://localhost:8080/",
          "height": 607
        },
        "outputId": "11ecaf32-e697-489f-8f0f-de0b460cf205"
      },
      "execution_count": 34,
      "outputs": [
        {
          "output_type": "display_data",
          "data": {
            "text/plain": [
              "<Figure size 1200x600 with 2 Axes>"
            ],
            "image/png": "[encoded data removed]"
          },
          "metadata": {}
        }
      ]
    },
    {
      "cell_type": "code",
      "source": [
        "#Q.24  Implement the Pearson and Spearman correlation coefficients for a dataset.import numpy as np\n",
        "from scipy.stats import pearsonr, spearmanr\n",
        "\n",
        "def calculate_correlations(dataset1, dataset2):\n",
        "    \"\"\"Calculates Pearson and Spearman correlation coefficients between two datasets.\n",
        "\n",
        "    Args:\n",
        "        dataset1: The first dataset (a list or NumPy array).\n",
        "        dataset2: The second dataset (a list or NumPy array).\n",
        "\n",
        "    Returns:\n",
        "        A tuple containing the Pearson correlation coefficient and the Spearman correlation coefficient.\n",
        "    \"\"\"\n",
        "\n",
        "    # Calculate Pearson correlation coefficient\n",
        "    pearson_corr, _ = pearsonr(dataset1, dataset2)\n",
        "\n",
        "    # Calculate Spearman correlation coefficient\n",
        "    spearman_corr, _ = spearmanr(dataset1, dataset2)\n",
        "\n",
        "    return pearson_corr, spearman_corr\n",
        "\n",
        "# Example usage:\n",
        "dataset1 = [1, 2, 3, 4, 5]\n",
        "dataset2 = [5, 4, 3, 2, 1]\n",
        "\n",
        "pearson_corr, spearman_corr = calculate_correlations(dataset1, dataset2)\n",
        "\n",
        "print(f\"Pearson correlation coefficient: {pearson_corr}\")\n",
        "print(f\"Spearman correlation coefficient: {spearman_corr}\")"
      ],
      "metadata": {
        "id": "uqV0stnLrFy2",
        "colab": {
          "base_uri": "https://localhost:8080/"
        },
        "outputId": "65af83e7-1b5e-4a0e-868a-60bd403db10e"
      },
      "execution_count": 35,
      "outputs": [
        {
          "output_type": "stream",
          "name": "stdout",
          "text": [
            "Pearson correlation coefficient: -1.0\n",
            "Spearman correlation coefficient: -0.9999999999999999\n"
          ]
        }
      ]
    },
    {
      "cell_type": "code",
      "source": [],
      "metadata": {
        "id": "ejF-JCORrF2p"
      },
      "execution_count": null,
      "outputs": []
    },
    {
      "cell_type": "code",
      "source": [],
      "metadata": {
        "id": "Zrr1kyQerF6U"
      },
      "execution_count": null,
      "outputs": []
    }
  ]
}